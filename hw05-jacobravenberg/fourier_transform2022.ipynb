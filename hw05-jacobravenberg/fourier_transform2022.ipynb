{
 "cells": [
  {
   "cell_type": "markdown",
   "metadata": {},
   "source": [
    "Before you turn this problem in, make sure everything runs as expected. First, **restart the kernel** (in the menubar, select Kernel$\\rightarrow$Restart) and then **run all cells** (in the menubar, select Cell$\\rightarrow$Run All).\n",
    "\n",
    "Make sure you fill in any place that says `YOUR CODE HERE` or \"YOUR ANSWER HERE\", as well as your name and collaborators below:"
   ]
  },
  {
   "cell_type": "code",
   "execution_count": null,
   "metadata": {},
   "outputs": [],
   "source": [
    "NAME = \"Jacob Ravenberg\"\n",
    "COLLABORATORS = \"\""
   ]
  },
  {
   "cell_type": "markdown",
   "metadata": {},
   "source": [
    "---"
   ]
  },
  {
   "cell_type": "markdown",
   "metadata": {
    "deletable": false,
    "editable": false,
    "nbgrader": {
     "cell_type": "markdown",
     "checksum": "8499adebb9ce737775f596413b12998d",
     "grade": false,
     "grade_id": "cell-701e0b71a11c4d88",
     "locked": true,
     "schema_version": 3,
     "solution": false,
     "task": false
    }
   },
   "source": [
    "# Fourier Transform 2022"
   ]
  },
  {
   "cell_type": "code",
   "execution_count": null,
   "metadata": {
    "deletable": false,
    "nbgrader": {
     "cell_type": "code",
     "checksum": "303fc8d151525e4cd18e29ad99ec78c6",
     "grade": false,
     "grade_id": "cell-a4bce8a3c5f78775",
     "locked": false,
     "schema_version": 3,
     "solution": true,
     "task": false
    }
   },
   "outputs": [],
   "source": [
    "# YOUR CODE HERE\n",
    "raise NotImplementedError()"
   ]
  },
  {
   "cell_type": "markdown",
   "metadata": {
    "deletable": false,
    "editable": false,
    "nbgrader": {
     "cell_type": "markdown",
     "checksum": "c5962289c46057c7e1c6760b67996d2f",
     "grade": false,
     "grade_id": "cell-75a5a59959aafb59",
     "locked": true,
     "schema_version": 3,
     "solution": false,
     "task": false
    }
   },
   "source": [
    "Note:  if you need to use the sinc function, please use the one provided above rather the one in the NumPy library."
   ]
  },
  {
   "cell_type": "markdown",
   "metadata": {
    "deletable": false,
    "editable": false,
    "nbgrader": {
     "cell_type": "markdown",
     "checksum": "33558f0a6aa7d10a3eede46c7cf09b63",
     "grade": false,
     "grade_id": "cell-9b1576ef59d3ee7d",
     "locked": true,
     "schema_version": 3,
     "solution": false,
     "task": false
    }
   },
   "source": [
    "## Part A\n",
    "\n",
    "Find the Fourier transform for $f(t)$ below.\n",
    "\n",
    "<img src=\"fourier_transform2022a.png\" width=\"400\"/>\n",
    "\n",
    "Represent your answer as a function `F(omega)`."
   ]
  },
  {
   "cell_type": "code",
   "execution_count": null,
   "metadata": {
    "deletable": false,
    "nbgrader": {
     "cell_type": "code",
     "checksum": "e40e2e0caf74da1143102cafdf47aa04",
     "grade": false,
     "grade_id": "cell-5fba9363c411a33f",
     "locked": false,
     "schema_version": 3,
     "solution": true,
     "task": false
    }
   },
   "outputs": [],
   "source": [
    "def F(omega):\n",
    "    if omega == 0:\n",
    "        return 2\n",
    "    else:\n",
    "        return (6*np.sin(omega) - 2*np.sin(omega))/omega"
   ]
  },
  {
   "cell_type": "code",
   "execution_count": null,
   "metadata": {
    "deletable": false,
    "editable": false,
    "nbgrader": {
     "cell_type": "code",
     "checksum": "6d66619f05fc1f5ef552f07ab4fac683",
     "grade": true,
     "grade_id": "cell-94660ab0cea1cc22",
     "locked": true,
     "points": 2,
     "schema_version": 3,
     "solution": false,
     "task": false
    }
   },
   "outputs": [],
   "source": [
    "assert isinstance(F(0), (float, complex))\n",
    "\n"
   ]
  },
  {
   "cell_type": "markdown",
   "metadata": {
    "deletable": false,
    "editable": false,
    "nbgrader": {
     "cell_type": "markdown",
     "checksum": "2f813d47788506881de0155c8e6385bb",
     "grade": false,
     "grade_id": "cell-54fd071fe37fc1c2",
     "locked": true,
     "schema_version": 3,
     "solution": false,
     "task": false
    }
   },
   "source": [
    "## Part B\n",
    "\n",
    "Find the inverse transform $f(t)$ if $|F(\\omega)|$ and $\\angle F(\\omega)$ are given below.  \n",
    "\n",
    "<img src=\"fourier_transform2022b.png\" width=\"800\"/>\n",
    "\n",
    "Represent your answer as a function `f(t)`.  "
   ]
  },
  {
   "cell_type": "code",
   "execution_count": null,
   "metadata": {
    "deletable": false,
    "nbgrader": {
     "cell_type": "code",
     "checksum": "41e5cf492502b91e9808c29109fdcd68",
     "grade": false,
     "grade_id": "cell-94532d69b454180f",
     "locked": false,
     "schema_version": 3,
     "solution": true,
     "task": false
    }
   },
   "outputs": [],
   "source": [
    "def f(t):\n",
    "    if t == -1/2:\n",
    "        return 3/np.pi\n",
    "    else:\n",
    "        return ((np.sin(2*t+1))/(np.pi*(t+(1/2))) + ((1-np.cos(2*t+1))/(2*np.pi*((t+(1/2))**2)))"
   ]
  },
  {
   "cell_type": "code",
   "execution_count": null,
   "metadata": {
    "deletable": false,
    "editable": false,
    "nbgrader": {
     "cell_type": "code",
     "checksum": "fe3e5086c820cebd2bfae4044b111668",
     "grade": true,
     "grade_id": "cell-6506e3cf4a2fa1d3",
     "locked": true,
     "points": 2,
     "schema_version": 3,
     "solution": false,
     "task": false
    }
   },
   "outputs": [],
   "source": [
    "assert isinstance(f(0), (float, complex))\n",
    "\n"
   ]
  }
 ],
 "metadata": {
  "kernelspec": {
   "display_name": "Python 3 (ipykernel)",
   "language": "python",
   "name": "python3"
  },
  "language_info": {
   "codemirror_mode": {
    "name": "ipython",
    "version": 3
   },
   "file_extension": ".py",
   "mimetype": "text/x-python",
   "name": "python",
   "nbconvert_exporter": "python",
   "pygments_lexer": "ipython3",
   "version": "3.12.4"
  }
 },
 "nbformat": 4,
 "nbformat_minor": 4
}
