{
 "cells": [
  {
   "cell_type": "markdown",
   "metadata": {},
   "source": [
    "Before you turn this problem in, make sure everything runs as expected. First, **restart the kernel** (in the menubar, select Kernel$\\rightarrow$Restart) and then **run all cells** (in the menubar, select Cell$\\rightarrow$Run All).\n",
    "\n",
    "Make sure you fill in any place that says `YOUR CODE HERE` or \"YOUR ANSWER HERE\", as well as your name and collaborators below:"
   ]
  },
  {
   "cell_type": "code",
   "execution_count": 1,
   "metadata": {},
   "outputs": [],
   "source": [
    "NAME = \"Jacob Ravenberg\"\n",
    "COLLABORATORS = \"\""
   ]
  },
  {
   "cell_type": "markdown",
   "metadata": {},
   "source": [
    "---"
   ]
  },
  {
   "cell_type": "markdown",
   "metadata": {
    "deletable": false,
    "editable": false,
    "nbgrader": {
     "cell_type": "markdown",
     "checksum": "4430d2ec43da5d7d165076251a5c23d5",
     "grade": false,
     "grade_id": "cell-fb0bfcc74bac2d2a",
     "locked": true,
     "schema_version": 3,
     "solution": false,
     "task": false
    }
   },
   "source": [
    "# Fourier Transform 2020"
   ]
  },
  {
   "cell_type": "code",
   "execution_count": 2,
   "metadata": {
    "deletable": false,
    "editable": false,
    "nbgrader": {
     "cell_type": "code",
     "checksum": "cb89953d8e57ddfb7637686974e21379",
     "grade": false,
     "grade_id": "cell-b5d144c0af92ada0",
     "locked": true,
     "schema_version": 3,
     "solution": false,
     "task": false
    }
   },
   "outputs": [],
   "source": [
    "import numpy as np\n",
    "\n",
    "\n",
    "def sinc(x):\n",
    "    return np.sinc(x / np.pi)"
   ]
  },
  {
   "cell_type": "markdown",
   "metadata": {
    "deletable": false,
    "editable": false,
    "nbgrader": {
     "cell_type": "markdown",
     "checksum": "237d3f6ff124a2c0450072c0fa0ccd72",
     "grade": false,
     "grade_id": "cell-1948316ba15da587",
     "locked": true,
     "schema_version": 3,
     "solution": false,
     "task": false
    }
   },
   "source": [
    "Note:  if you need to use the sinc function, please use the one provided above rather the one in the NumPy library."
   ]
  },
  {
   "cell_type": "markdown",
   "metadata": {
    "deletable": false,
    "editable": false,
    "nbgrader": {
     "cell_type": "markdown",
     "checksum": "c8d77ed1510f468dd21a4b5d4dd3c887",
     "grade": false,
     "grade_id": "cell-b4f0b072ff1d3684",
     "locked": true,
     "schema_version": 3,
     "solution": false,
     "task": false
    }
   },
   "source": [
    "## Part A\n",
    "\n",
    "Find the Fourier transform for $f(t)$ which is defined piecewise\n",
    "$$\n",
    "   f(t)=\n",
    "    \\begin{cases}\n",
    "      -t & -2\\leq t \\leq 0\\\\\n",
    "      t & 0 < t \\leq 2\\\\\n",
    "      0 & \\text{otherwise}\n",
    "    \\end{cases}.\n",
    "$$\n",
    "Represent your answer as a function `F(omega)`."
   ]
  },
  {
   "cell_type": "code",
   "execution_count": 5,
   "metadata": {
    "deletable": false,
    "nbgrader": {
     "cell_type": "code",
     "checksum": "6902ee49e9aaeb396ae16efb764aadfd",
     "grade": false,
     "grade_id": "cell-6728c774e597c7e2",
     "locked": false,
     "schema_version": 3,
     "solution": true,
     "task": false
    }
   },
   "outputs": [],
   "source": [
    "def F(omega):\n",
    "    if omega == 0:\n",
    "        return 4.0\n",
    "    return ((4*np.sin(2*omega))/omega) - (2*(1-np.cos(2*omega)))/(omega**2)"
   ]
  },
  {
   "cell_type": "code",
   "execution_count": 6,
   "metadata": {
    "deletable": false,
    "editable": false,
    "nbgrader": {
     "cell_type": "code",
     "checksum": "c44eef498617b8256d322e5cdaa18ccd",
     "grade": true,
     "grade_id": "cell-27b08a3d599bb3fe",
     "locked": true,
     "points": 2,
     "schema_version": 3,
     "solution": false,
     "task": false
    }
   },
   "outputs": [],
   "source": [
    "assert isinstance(F(0), (float, complex))\n",
    "\n"
   ]
  },
  {
   "cell_type": "markdown",
   "metadata": {
    "deletable": false,
    "editable": false,
    "nbgrader": {
     "cell_type": "markdown",
     "checksum": "60045d640d9facd3bf8a32c096937b16",
     "grade": false,
     "grade_id": "cell-4f499e27d46f01dc",
     "locked": true,
     "schema_version": 3,
     "solution": false,
     "task": false
    }
   },
   "source": [
    "## Part B\n",
    "\n",
    "Find the inverse transform $f(t)$ if $|F(\\omega)|$ and $\\angle F(\\omega)$ are given below.  \n",
    "\n",
    "<img src=\"fourier_transform2020.png\" width=\"600\"/>\n",
    "\n",
    "Represent your answer as a function `f(t)`.  "
   ]
  },
  {
   "cell_type": "code",
   "execution_count": 7,
   "metadata": {
    "deletable": false,
    "nbgrader": {
     "cell_type": "code",
     "checksum": "d08239fecb93bfe82fbdcae7cc3b9d25",
     "grade": false,
     "grade_id": "cell-767b795193e9fe8e",
     "locked": false,
     "schema_version": 3,
     "solution": true,
     "task": false
    }
   },
   "outputs": [],
   "source": [
    "def f(t):\n",
    "    return (2*np.cos(2*(t-1))*np.sin(t-1))/(np.pi*(t-1))"
   ]
  },
  {
   "cell_type": "code",
   "execution_count": 8,
   "metadata": {
    "deletable": false,
    "editable": false,
    "nbgrader": {
     "cell_type": "code",
     "checksum": "2662fe970aea1f2ca1c9748ad0375b79",
     "grade": true,
     "grade_id": "cell-92bcf1ca08f7e2b6",
     "locked": true,
     "points": 2,
     "schema_version": 3,
     "solution": false,
     "task": false
    }
   },
   "outputs": [],
   "source": [
    "assert isinstance(f(0), (float, complex))\n",
    "\n"
   ]
  }
 ],
 "metadata": {
  "kernelspec": {
   "display_name": "Python 3 (ipykernel)",
   "language": "python",
   "name": "python3"
  },
  "language_info": {
   "codemirror_mode": {
    "name": "ipython",
    "version": 3
   },
   "file_extension": ".py",
   "mimetype": "text/x-python",
   "name": "python",
   "nbconvert_exporter": "python",
   "pygments_lexer": "ipython3",
   "version": "3.12.4"
  }
 },
 "nbformat": 4,
 "nbformat_minor": 4
}
