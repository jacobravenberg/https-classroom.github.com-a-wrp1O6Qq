{
 "cells": [
  {
   "cell_type": "markdown",
   "metadata": {},
   "source": [
    "Before you turn this problem in, make sure everything runs as expected. First, **restart the kernel** (in the menubar, select Kernel$\\rightarrow$Restart) and then **run all cells** (in the menubar, select Cell$\\rightarrow$Run All).\n",
    "\n",
    "Make sure you fill in any place that says `YOUR CODE HERE` or \"YOUR ANSWER HERE\", as well as your name and collaborators below:"
   ]
  },
  {
   "cell_type": "code",
   "execution_count": 1,
   "metadata": {},
   "outputs": [],
   "source": [
    "NAME = \"Jacob Ravenberg\"\n",
    "COLLABORATORS = \"\""
   ]
  },
  {
   "cell_type": "markdown",
   "metadata": {},
   "source": [
    "---"
   ]
  },
  {
   "cell_type": "markdown",
   "metadata": {
    "deletable": false,
    "editable": false,
    "nbgrader": {
     "cell_type": "markdown",
     "checksum": "8f0adb1521a045a8ea72a6d8b0da0fe2",
     "grade": false,
     "grade_id": "cell-596f97d7366cbafe",
     "locked": true,
     "schema_version": 3,
     "solution": false,
     "task": false
    }
   },
   "source": [
    "# System Response 2022"
   ]
  },
  {
   "cell_type": "code",
   "execution_count": 2,
   "metadata": {
    "deletable": false,
    "editable": false,
    "nbgrader": {
     "cell_type": "code",
     "checksum": "629477b86016cde944bbf47db717dd52",
     "grade": false,
     "grade_id": "cell-48b94c90a7e864f9",
     "locked": true,
     "schema_version": 3,
     "solution": false,
     "task": false
    }
   },
   "outputs": [],
   "source": [
    "from matplotlib import pyplot as plt\n",
    "import numpy as np"
   ]
  },
  {
   "cell_type": "markdown",
   "metadata": {
    "deletable": false,
    "editable": false,
    "nbgrader": {
     "cell_type": "markdown",
     "checksum": "d88ec6e5765cd16416271a13e009d0db",
     "grade": false,
     "grade_id": "cell-3495b59e525ed77a",
     "locked": true,
     "schema_version": 3,
     "solution": false,
     "task": false
    }
   },
   "source": [
    "The following function does not need to be completed.  You are welcome to complete it and use it to check your work in the plots below.  You will not be graded on this code.  If you don't want to use this, just have it return zeros or something so the code below won't break."
   ]
  },
  {
   "cell_type": "code",
   "execution_count": 3,
   "metadata": {
    "deletable": false,
    "nbgrader": {
     "cell_type": "code",
     "checksum": "c40395bb453d1de72e7b7e95310d88dd",
     "grade": false,
     "grade_id": "cell-66d35ab6c30a6ed9",
     "locked": false,
     "schema_version": 3,
     "solution": true,
     "task": false
    }
   },
   "outputs": [],
   "source": [
    "def fourier_series(D_n, omega_0, t):\n",
    "    \"\"\"Calculates the Fourier series of a periodic function with a given set of\n",
    "    Fourier coefficients D_n, angular frequency omega, and time t.\n",
    "\n",
    "    Parameters\n",
    "    ----------\n",
    "    D_n : ndarray\n",
    "        An array of Fourier coefficients from -N <= n <= N\n",
    "    omega_0 : float\n",
    "        The angular frequency of the periodic function\n",
    "    t : ndarray\n",
    "        An array of time values\n",
    "\n",
    "    Returns\n",
    "    -------\n",
    "    ndarray\n",
    "        An array of function values at each time value.\n",
    "    \"\"\"\n",
    "    # Number of harmonics N (assuming D_n has length 2N + 1)\n",
    "    N = (len(D_n) - 1) // 2\n",
    "\n",
    "    # Create an array of n values from -N to N\n",
    "    n_vals = np.arange(-N, N + 1)\n",
    "\n",
    "    # Ensure t is a NumPy array for vectorized operations\n",
    "    t = np.asarray(t)\n",
    "\n",
    "    # Initialize the output array with zeros (complex numbers)\n",
    "    f_t = np.zeros_like(t, dtype=np.complex128)\n",
    "\n",
    "    # Compute the exponential term for each n and t\n",
    "    # This creates a 2D array where each row corresponds to a time value,\n",
    "    # and each column corresponds to an n value.\n",
    "    exponentials = np.exp(1j * np.outer(n_vals, omega_0 * t))\n",
    "\n",
    "    # Multiply each exponential by its corresponding D_n\n",
    "    # D_n is reshaped to (len(D_n), 1) to align with exponentials\n",
    "    terms = D_n[:, np.newaxis] * exponentials\n",
    "\n",
    "    # Sum over all n to get the Fourier series values at each time t\n",
    "    f_t = np.sum(terms, axis=0)\n",
    "\n",
    "    # Since the original function is real-valued, take the real part\n",
    "    f_t_real = f_t.real\n",
    "\n",
    "    return f_t_real"
   ]
  },
  {
   "cell_type": "markdown",
   "metadata": {
    "deletable": false,
    "editable": false,
    "nbgrader": {
     "cell_type": "markdown",
     "checksum": "8cfe850070a8866797fdc266c339f75f",
     "grade": false,
     "grade_id": "cell-285a6154ff2cfe0a",
     "locked": true,
     "schema_version": 3,
     "solution": false,
     "task": false
    }
   },
   "source": [
    "Determine the period and fundamental frequency $\\omega_0$ for the function $f(t)$ seen below.\n",
    "\n",
    "<img src=\"system_response2022a.png\" width=\"400\"/>  \n",
    "\n",
    "Represent your answer as `omega_0 = XX`."
   ]
  },
  {
   "cell_type": "code",
   "execution_count": 4,
   "metadata": {
    "deletable": false,
    "nbgrader": {
     "cell_type": "code",
     "checksum": "94d78fe0112deee3c941b3039bd68963",
     "grade": false,
     "grade_id": "cell-83da82e261fa969d",
     "locked": false,
     "schema_version": 3,
     "solution": true,
     "task": false
    }
   },
   "outputs": [],
   "source": [
    "omega_0 = 2*np.pi / 4"
   ]
  },
  {
   "cell_type": "code",
   "execution_count": 5,
   "metadata": {
    "deletable": false,
    "editable": false,
    "nbgrader": {
     "cell_type": "code",
     "checksum": "f4722b7dcd50df709e637008928a51f5",
     "grade": true,
     "grade_id": "cell-138058510381cecf",
     "locked": true,
     "points": 1,
     "schema_version": 3,
     "solution": false,
     "task": false
    }
   },
   "outputs": [],
   "source": [
    "assert isinstance(omega_0, float)\n",
    "\n",
    "### BEGIN HIIDDEN TESTS\n",
    "assert np.isclose(omega_0, np.pi / 2)"
   ]
  },
  {
   "cell_type": "markdown",
   "metadata": {
    "deletable": false,
    "editable": false,
    "nbgrader": {
     "cell_type": "markdown",
     "checksum": "5ab62b3b5d252aecaa1bb1e845944dde",
     "grade": false,
     "grade_id": "cell-820dd99309a98e87",
     "locked": true,
     "schema_version": 3,
     "solution": false,
     "task": false
    }
   },
   "source": [
    "Derive the complex exponential Fourier series for $f(t)$.  Report your values of $D_n$ as a function `D(n)`."
   ]
  },
  {
   "cell_type": "code",
   "execution_count": 6,
   "metadata": {
    "deletable": false,
    "nbgrader": {
     "cell_type": "code",
     "checksum": "a6b60ac5088d426f9bcabde2aa625efd",
     "grade": false,
     "grade_id": "cell-0719085b253213f7",
     "locked": false,
     "schema_version": 3,
     "solution": true,
     "task": false
    }
   },
   "outputs": [],
   "source": [
    "def D(n):\n",
    "    if n == 0:\n",
    "        return 1\n",
    "    elif n % 2 == 0:\n",
    "        return 0\n",
    "    else:\n",
    "        return (2/(np.pi*n))*(-1)**((n-1)/2)"
   ]
  },
  {
   "cell_type": "markdown",
   "metadata": {
    "deletable": false,
    "editable": false,
    "nbgrader": {
     "cell_type": "markdown",
     "checksum": "4ae82b882fe1fc0a472b599556529fb2",
     "grade": false,
     "grade_id": "cell-2791f846eae5887f",
     "locked": true,
     "schema_version": 3,
     "solution": false,
     "task": false
    }
   },
   "source": [
    "Let's check to see if this matches the original $f(t)$ using $N=50$."
   ]
  },
  {
   "cell_type": "code",
   "execution_count": 7,
   "metadata": {
    "deletable": false,
    "editable": false,
    "nbgrader": {
     "cell_type": "code",
     "checksum": "4703a392e11d3d29005fb98e48a7e9e3",
     "grade": true,
     "grade_id": "cell-717ac010545e2499",
     "locked": true,
     "points": 2,
     "schema_version": 3,
     "solution": false,
     "task": false
    }
   },
   "outputs": [
    {
     "data": {
      "image/png": "[encoded data removed]",
      "text/plain": [
       "<Figure size 640x480 with 1 Axes>"
      ]
     },
     "metadata": {},
     "output_type": "display_data"
    }
   ],
   "source": [
    "assert isinstance(D(1), (float, complex))\n",
    "\n",
    "D_n = np.array([D(n) for n in range(-50, 51)])\n",
    "\n",
    "t = np.linspace(-4, 4, 1000)\n",
    "f_t = fourier_series(D_n, omega_0, t).real\n",
    "\n",
    "plt.figure()\n",
    "plt.plot(t, f_t, label=\"f(t)\")\n",
    "plt.xlabel(\"time\")\n",
    "plt.ylabel(\"$f(t)$\")\n",
    "plt.title(\"Fourier Series of $f(t)$\")\n",
    "plt.grid()\n",
    "\n"
   ]
  },
  {
   "cell_type": "markdown",
   "metadata": {
    "deletable": false,
    "editable": false,
    "nbgrader": {
     "cell_type": "markdown",
     "checksum": "90472976917f7d07077b4bbd779a11c7",
     "grade": false,
     "grade_id": "cell-afe1d0a77ffc7a55",
     "locked": true,
     "schema_version": 3,
     "solution": false,
     "task": false
    }
   },
   "source": [
    "Derive the transfer function $H(s)$ for the circuit seen below.  \n",
    "\n",
    "<img src=\"system_response2022b.png\" width=\"400\"/>  \n",
    "\n",
    "Represent your answer as a function `H(s)`."
   ]
  },
  {
   "cell_type": "code",
   "execution_count": null,
   "metadata": {
    "deletable": false,
    "nbgrader": {
     "cell_type": "code",
     "checksum": "389bea7007b54caa613b0920b06f56d2",
     "grade": false,
     "grade_id": "cell-98ed30ab7debaf50",
     "locked": false,
     "schema_version": 3,
     "solution": true,
     "task": false
    }
   },
   "outputs": [],
   "source": [
    "def H(s):\n",
    "    return s/(5+s)"
   ]
  },
  {
   "cell_type": "code",
   "execution_count": null,
   "metadata": {
    "deletable": false,
    "editable": false,
    "nbgrader": {
     "cell_type": "code",
     "checksum": "21b81a48c4daa27f83814198ee3b6573",
     "grade": true,
     "grade_id": "cell-b707900e5b22a35f",
     "locked": true,
     "points": 1,
     "schema_version": 3,
     "solution": false,
     "task": false
    }
   },
   "outputs": [],
   "source": [
    "assert isinstance(H(1), float)\n",
    "\n"
   ]
  },
  {
   "cell_type": "markdown",
   "metadata": {
    "deletable": false,
    "editable": false,
    "nbgrader": {
     "cell_type": "markdown",
     "checksum": "b7e866891c9421f33070fa1bc1cde045",
     "grade": false,
     "grade_id": "cell-b7a5d207f3d81164",
     "locked": true,
     "schema_version": 3,
     "solution": false,
     "task": false
    }
   },
   "source": [
    "Given the input $f(t)$ for the circuit above, what is the output $y(t)$?\n",
    "\n",
    "Represent your answer as a function `y(t)`.  Make sure that in your summation you are only summing terms $-50 \\leq n \\leq 50$."
   ]
  },
  {
   "cell_type": "code",
   "execution_count": 8,
   "metadata": {
    "deletable": false,
    "nbgrader": {
     "cell_type": "code",
     "checksum": "ee4b0258d400bb49961dd342381a18d1",
     "grade": false,
     "grade_id": "cell-c6b7ccdf18b94c5c",
     "locked": false,
     "schema_version": 3,
     "solution": true,
     "task": false
    }
   },
   "outputs": [],
   "source": [
    "def y(t):\n",
    "    return np.where( t >= 0.0, ((5/3)*np.exp(-5*t)) - ((2/3)*np.exp(-2*t)), 0.0)"
   ]
  },
  {
   "cell_type": "markdown",
   "metadata": {
    "deletable": false,
    "editable": false,
    "nbgrader": {
     "cell_type": "markdown",
     "checksum": "c4b6433b7c5b15617e55d5292c55b8e2",
     "grade": false,
     "grade_id": "cell-0aec73b11d1e1360",
     "locked": true,
     "schema_version": 3,
     "solution": false,
     "task": false
    }
   },
   "source": [
    "Let's visualize this result and see if it makes sense.  Does this behavior make sense intuitively if a square wave goes into a $RL$ circuit?"
   ]
  },
  {
   "cell_type": "code",
   "execution_count": 9,
   "metadata": {
    "deletable": false,
    "editable": false,
    "nbgrader": {
     "cell_type": "code",
     "checksum": "09a8c6698ccd039b0f9eac9cf071d363",
     "grade": true,
     "grade_id": "cell-f0871eb6638f36c3",
     "locked": true,
     "points": 2,
     "schema_version": 3,
     "solution": false,
     "task": false
    }
   },
   "outputs": [
    {
     "data": {
      "image/png": "[encoded data removed]",
      "text/plain": [
       "<Figure size 640x480 with 1 Axes>"
      ]
     },
     "metadata": {},
     "output_type": "display_data"
    }
   ],
   "source": [
    "assert isinstance(D(1), (float, complex))\n",
    "\n",
    "\n",
    "t = np.linspace(-4, 4, 1000)\n",
    "y_t = y(t).real\n",
    "\n",
    "plt.figure()\n",
    "plt.plot(t, f_t, label=\"f(t)\")\n",
    "plt.plot(t, y_t, label=\"y(t)\")\n",
    "plt.xlabel(\"time\")\n",
    "plt.ylabel(\"$f(t)$\")\n",
    "plt.title(\"Fourier Series of $f(t)$\")\n",
    "plt.legend()\n",
    "plt.grid()\n",
    "\n"
   ]
  },
  {
   "cell_type": "code",
   "execution_count": null,
   "metadata": {},
   "outputs": [],
   "source": []
  }
 ],
 "metadata": {
  "kernelspec": {
   "display_name": "Python 3 (ipykernel)",
   "language": "python",
   "name": "python3"
  },
  "language_info": {
   "codemirror_mode": {
    "name": "ipython",
    "version": 3
   },
   "file_extension": ".py",
   "mimetype": "text/x-python",
   "name": "python",
   "nbconvert_exporter": "python",
   "pygments_lexer": "ipython3",
   "version": "3.12.4"
  }
 },
 "nbformat": 4,
 "nbformat_minor": 4
}
